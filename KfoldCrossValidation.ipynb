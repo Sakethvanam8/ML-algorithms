{
 "cells": [
  {
   "cell_type": "markdown",
   "metadata": {},
   "source": [
    "# <font color='red'>K fold cross validation </font>"
   ]
  },
  {
   "cell_type": "markdown",
   "metadata": {},
   "source": [
    "K fold cross validation algorithm is used to split the data into k folds randomly and each fold is tested in future at some point of time. folds are kept for testing and the model is trained on k-1 folds."
   ]
  },
  {
   "cell_type": "markdown",
   "metadata": {},
   "source": [
    "import libraries "
   ]
  },
  {
   "cell_type": "code",
   "execution_count": 1,
   "metadata": {},
   "outputs": [],
   "source": [
    "import pandas as pd\n",
    "import numpy as np\n",
    "import matplotlib.pyplot as plt\n",
    "from sklearn import model_selection\n",
    "from sklearn.model_selection import train_test_split\n",
    "from sklearn import datasets\n",
    "from sklearn import metrics\n",
    "from sklearn.linear_model import LinearRegression\n",
    "#load the dataset digits \n",
    "digits = datasets.load_digits()"
   ]
  },
  {
   "cell_type": "markdown",
   "metadata": {},
   "source": [
    "The data is sliced to split that into test set and training set"
   ]
  },
  {
   "cell_type": "code",
   "execution_count": 2,
   "metadata": {},
   "outputs": [
    {
     "name": "stdout",
     "output_type": "stream",
     "text": [
      "Accuracy: 0.5452387308021048\n"
     ]
    },
    {
     "data": {
      "text/plain": [
       "array([1.45937706, 7.12712235, 2.13001151, 5.82048326, 4.18204807])"
      ]
     },
     "execution_count": 2,
     "metadata": {},
     "output_type": "execute_result"
    }
   ],
   "source": [
    "X_train, X_test,y_train,y_test=train_test_split(digits.data,digits.target,test_size=0.2,random_state=0)\n",
    "#Apply linear regression model\n",
    "model=LinearRegression()\n",
    "#fit the model\n",
    "model.fit(X_train,y_train)\n",
    "#predict the value and find the accuracy\n",
    "y_pred=model.predict(X_test)\n",
    "print(\"Accuracy:\",model.score(X_test, y_test))\n",
    "y_pred[0:5]"
   ]
  },
  {
   "cell_type": "code",
   "execution_count": 3,
   "metadata": {},
   "outputs": [
    {
     "name": "stdout",
     "output_type": "stream",
     "text": [
      "(1437, 64)\n",
      "(360, 64)\n",
      "(1437,)\n",
      "(360,)\n"
     ]
    }
   ],
   "source": [
    "print(X_train.shape)\n",
    "print(X_test.shape)\n",
    "print(y_train.shape)\n",
    "print(y_test.shape)"
   ]
  },
  {
   "cell_type": "code",
   "execution_count": 4,
   "metadata": {},
   "outputs": [
    {
     "data": {
      "text/plain": [
       "(1797, 64)"
      ]
     },
     "execution_count": 4,
     "metadata": {},
     "output_type": "execute_result"
    }
   ],
   "source": [
    "digits.data.shape # display the data "
   ]
  },
  {
   "cell_type": "code",
   "execution_count": 5,
   "metadata": {},
   "outputs": [
    {
     "data": {
      "text/plain": [
       "(1797,)"
      ]
     },
     "execution_count": 5,
     "metadata": {},
     "output_type": "execute_result"
    }
   ],
   "source": [
    "digits.target.shape #display the target value"
   ]
  },
  {
   "cell_type": "code",
   "execution_count": 6,
   "metadata": {},
   "outputs": [
    {
     "name": "stdout",
     "output_type": "stream",
     "text": [
      "Cross-validated scores: [0.43734926 0.5947194  0.55515329 0.65537932 0.50359543 0.37155642]\n"
     ]
    }
   ],
   "source": [
    "from sklearn.model_selection import cross_val_score, cross_val_predict\n",
    "from sklearn import metrics\n",
    "#metric is used to judge a models performance\n",
    "# Perform 6-fold cross validation\n",
    "scores = cross_val_score(model.fit(X_train,y_train),digits.data,digits.target, cv=6)\n",
    "print (\"Cross-validated scores:\", scores)"
   ]
  },
  {
   "cell_type": "code",
   "execution_count": 7,
   "metadata": {},
   "outputs": [
    {
     "data": {
      "text/plain": [
       "array([[ 0.,  0.,  0.,  9., 15.,  2.,  0.,  0.,  0.,  0.,  5., 16., 11.,\n",
       "         1.,  0.,  0.,  0.,  0., 13., 15.,  1.,  0.,  0.,  0.,  0.,  2.,\n",
       "        16., 11.,  0.,  0.,  0.,  0.,  0.,  2., 16., 11.,  4.,  4.,  0.,\n",
       "         0.,  0.,  2., 15., 16., 16., 14., 10.,  1.,  0.,  0.,  9., 16.,\n",
       "         7.,  3., 15.,  6.,  0.,  0.,  0.,  7., 15., 16., 16.,  6.],\n",
       "       [ 0.,  3., 12., 12., 14.,  4.,  0.,  0.,  0.,  1., 13.,  4.,  4.,\n",
       "         0.,  0.,  0.,  0.,  4., 14.,  4.,  3.,  0.,  0.,  0.,  0.,  5.,\n",
       "        13., 12., 14., 10.,  0.,  0.,  0.,  0.,  0.,  0.,  0., 11.,  6.,\n",
       "         0.,  0.,  0.,  0.,  0.,  0.,  4.,  8.,  0.,  0.,  0.,  6.,  2.,\n",
       "         0.,  8.,  8.,  0.,  0.,  2., 13., 16., 16., 16.,  2.,  0.],\n",
       "       [ 0.,  1., 10., 15., 16., 13.,  3.,  0.,  0.,  5., 14.,  5.,  5.,\n",
       "        15.,  8.,  0.,  0.,  0.,  0.,  0.,  2., 15.,  6.,  0.,  0.,  0.,\n",
       "         0.,  0.,  9., 16.,  0.,  0.,  0.,  0.,  0.,  0.,  9., 16.,  0.,\n",
       "         0.,  0.,  0.,  0.,  0.,  4., 16.,  6.,  0.,  0.,  0.,  2.,  3.,\n",
       "        13., 12.,  0.,  0.,  0.,  0., 15., 13.,  7.,  0.,  0.,  0.],\n",
       "       [ 0.,  0.,  0., 12.,  4.,  0.,  0.,  0.,  0.,  0.,  6., 15.,  2.,\n",
       "         0.,  0.,  0.,  0.,  0., 16.,  5.,  0.,  4.,  4.,  0.,  0.,  4.,\n",
       "        15.,  2.,  3., 15.,  9.,  0.,  0.,  2., 15., 16., 16., 16.,  4.,\n",
       "         0.,  0.,  0.,  2.,  8., 16.,  8.,  0.,  0.,  0.,  0.,  0.,  8.,\n",
       "        15.,  0.,  0.,  0.,  0.,  0.,  0., 11.,  9.,  0.,  0.,  0.]])"
      ]
     },
     "execution_count": 7,
     "metadata": {},
     "output_type": "execute_result"
    }
   ],
   "source": [
    "X_train[0:4]"
   ]
  },
  {
   "cell_type": "markdown",
   "metadata": {},
   "source": [
    "By the algorithm, the observations obtained are tested exactly once for validation. "
   ]
  }
 ],
 "metadata": {
  "kernelspec": {
   "display_name": "Python 3",
   "language": "python",
   "name": "python3"
  },
  "language_info": {
   "codemirror_mode": {
    "name": "ipython",
    "version": 3
   },
   "file_extension": ".py",
   "mimetype": "text/x-python",
   "name": "python",
   "nbconvert_exporter": "python",
   "pygments_lexer": "ipython3",
   "version": "3.7.4"
  }
 },
 "nbformat": 4,
 "nbformat_minor": 2
}
