{
 "cells": [
  {
   "cell_type": "markdown",
   "metadata": {},
   "source": [
    "# <font color='red'>Naive Bayes Theorem </font>"
   ]
  },
  {
   "cell_type": "markdown",
   "metadata": {},
   "source": [
    "Naive Bayes theorem is a classification algorithm for binary and multiclass classification problems. This algorithm uses probability.  It uses similar methods to predict the probability of different class based on various attributes. The feature model used by a naive Bayes classifier makes strong independence assumptions."
   ]
  },
  {
   "cell_type": "markdown",
   "metadata": {},
   "source": [
    "p(H|E) = P(E|H).P(H)/ P(E)\n",
    "* H: hypothesis\n",
    "* E: evidence\n",
    "* P(H) : prior probability\n",
    "* P(E) : probability of the evidence\n",
    "* P(E|H) : probability of the evidence given the hypothesis is true.\n",
    "* P(H|E) : probability of the hypothesis given that the evidence is there.\n",
    "  "
   ]
  },
  {
   "cell_type": "code",
   "execution_count": 43,
   "metadata": {},
   "outputs": [
    {
     "name": "stdout",
     "output_type": "stream",
     "text": [
      "Accuracy: 0.9333333333333333\n"
     ]
    }
   ],
   "source": [
    "#importing libraries\n",
    "\n",
    "from sklearn import datasets   \n",
    "from sklearn.model_selection import train_test_split\n",
    "from sklearn.naive_bayes import GaussianNB\n",
    "from sklearn import metrics\n",
    "\n",
    "iris = datasets.load_iris()  #loading iris dataset\n",
    "X_train, X_test, y_train, y_test = train_test_split(iris.data, iris.target, test_size=0.3,random_state=110)  #splitting data into two(train and test dataset). random_state will generate random number. \n",
    "g_model=GaussianNB()  #GaussianNB() method is used to implement the algorithm\n",
    "model=g_model.fit(X_train,y_train)  #fit the model\n",
    "y_pred=g_model.predict(X_test) #prediction\n",
    "print(\"Accuracy:\",metrics.accuracy_score(y_test, y_pred)) #accuracy is predicted"
   ]
  },
  {
   "cell_type": "code",
   "execution_count": 44,
   "metadata": {},
   "outputs": [
    {
     "data": {
      "text/plain": [
       "(150, 4)"
      ]
     },
     "execution_count": 44,
     "metadata": {},
     "output_type": "execute_result"
    }
   ],
   "source": [
    "iris.data.shape #printing data shape"
   ]
  },
  {
   "cell_type": "code",
   "execution_count": 45,
   "metadata": {},
   "outputs": [
    {
     "data": {
      "text/plain": [
       "(150,)"
      ]
     },
     "execution_count": 45,
     "metadata": {},
     "output_type": "execute_result"
    }
   ],
   "source": [
    "iris.target.shape #displaying target shape"
   ]
  },
  {
   "cell_type": "code",
   "execution_count": 46,
   "metadata": {},
   "outputs": [
    {
     "name": "stdout",
     "output_type": "stream",
     "text": [
      "[2 1 0 1 0 1 1 1 1 1 0 1 1 1 2 0 1 1 1 1 0 1 1 0 1 0 0 1 1 0 0 0 1 2 1 2 1\n",
      " 2 0 1 2 2 1 1 1]\n"
     ]
    }
   ],
   "source": [
    "print(y_pred) #displaying predicted values of y"
   ]
  },
  {
   "cell_type": "code",
   "execution_count": 47,
   "metadata": {},
   "outputs": [
    {
     "name": "stdout",
     "output_type": "stream",
     "text": [
      "Cross-validated scores: [0.95652174 0.86363636]\n"
     ]
    }
   ],
   "source": [
    "from sklearn.model_selection import cross_val_score, cross_val_predict\n",
    "from sklearn import metrics\n",
    "\n",
    "# Performing 6-fold cross validation\n",
    "\n",
    "scores = cross_val_score(model,X_test,y_test, cv=2)\n",
    "print (\"Cross-validated scores:\", scores)"
   ]
  },
  {
   "cell_type": "markdown",
   "metadata": {},
   "source": [
    "* Naive bayes is performed on the iris dataset. \n",
    "* Data is divided into two (training and test data).\n",
    "* Predicted the accuracy of the model.\n",
    "* displayed data shape, target shape and prediction values.\n",
    "* performed 6-fold cross validation and displayed the scores."
   ]
  }
 ],
 "metadata": {
  "kernelspec": {
   "display_name": "Python 3",
   "language": "python",
   "name": "python3"
  },
  "language_info": {
   "codemirror_mode": {
    "name": "ipython",
    "version": 3
   },
   "file_extension": ".py",
   "mimetype": "text/x-python",
   "name": "python",
   "nbconvert_exporter": "python",
   "pygments_lexer": "ipython3",
   "version": "3.7.4"
  }
 },
 "nbformat": 4,
 "nbformat_minor": 2
}
